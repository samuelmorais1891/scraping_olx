{
 "cells": [
  {
   "cell_type": "code",
   "execution_count": 1,
   "metadata": {},
   "outputs": [],
   "source": [
    "import lxml.html as parser\n",
    "import requests\n",
    "import csv\n",
    "import re\n",
    "from urllib.parse import urlsplit, urljoin\n",
    "import time\n",
    "import numpy as np\n",
    "import pandas as pd\n",
    "import random\n",
    "import matplotlib.pyplot as plt"
   ]
  },
  {
   "cell_type": "code",
   "execution_count": 6,
   "metadata": {},
   "outputs": [],
   "source": [
    "def get_float(string_):\n",
    "    return float(''.join(re.findall('\\d+',string_)))\n",
    "def get_cep(string_):\n",
    "    return ''.join(re.findall('\\d{5}-\\d{3}',string_))\n",
    "def sub_string(string_):\n",
    "    return string_.strip()\n",
    "def get_links_page(start_url):\n",
    "    r = requests.get(start_url)\n",
    "    html = parser.fromstring(r.text)\n",
    "    links = html.xpath(\"//a[@class='OLXad-list-link']/@href\")\n",
    "    links = [urljoin(start_url, l) for l in links]\n",
    "    links = [urlsplit(l)._replace(query=\"\").geturl() for l in links]\n",
    "    next_page = html.xpath(\"//div[@class='module_pagination']//ul[@class='list']//li[@class='item number']/a/@href\")[0]\n",
    "    return links, next_page\n",
    "def get_atributes(links):\n",
    "    tp_imovel = []\n",
    "    condominio = []\n",
    "    iptu = []\n",
    "    area = []\n",
    "    quartos = []\n",
    "    banheiros = []\n",
    "    garagem = []\n",
    "    prices = []\n",
    "    cep = []\n",
    "    bairro = []\n",
    "    city = []\n",
    "    url = links\n",
    "    for i in links:\n",
    "        time.sleep(random.randint(1,3))\n",
    "        r = requests.get(i)\n",
    "        product_html = parser.fromstring(r.text)        \n",
    "        des_dict = dict(zip(\n",
    "            product_html.xpath(\"//ul[@class='list square-gray']/li[@class='item']/p[@class='text']/span[@class='term']/text()\"),\n",
    "            product_html.xpath(\"//ul[@class='list square-gray']/li[@class='item']/p[@class='text']/strong[@class='description']/text()\")))\n",
    "\n",
    "        try:\n",
    "            tp_imovel.append(sub_string(des_dict['Tipo:']))\n",
    "        except:\n",
    "            tp_imovel.append('')\n",
    "        try:\n",
    "            condominio.append(get_float(des_dict['Condomínio:']))\n",
    "        except:\n",
    "            condominio.append(None)\n",
    "        try:\n",
    "            iptu.append(get_float(des_dict['IPTU:']))\n",
    "        except:\n",
    "            iptu.append(None)\n",
    "        try:\n",
    "            area.append(get_float(des_dict['Área útil:']))\n",
    "        except:\n",
    "            area.append(None)\n",
    "        try:\n",
    "            quartos.append(get_float(des_dict['Número de quartos:']))\n",
    "        except:\n",
    "            quartos.append(None)\n",
    "        try:\n",
    "            banheiros.append(get_float(des_dict['Número de banheiros:']))\n",
    "        except:\n",
    "            banheiros.append(None)\n",
    "        try:\n",
    "            garagem.append(get_float(des_dict['Vagas na garagem:']))\n",
    "        except:\n",
    "            garagem.append(None)\n",
    "        try:\n",
    "            city.append(sub_string(des_dict['Município:']))\n",
    "        except:\n",
    "            city.append('')\n",
    "        try:\n",
    "            cep.append(get_cep(des_dict['CEP do imóvel:']))\n",
    "        except:\n",
    "            cep.append('')\n",
    "        try:\n",
    "            bairro.append(sub_string(des_dict['Bairro:']))\n",
    "        except:\n",
    "            bairro.append('')\n",
    "        try:\n",
    "            prices.append(get_float(product_html.xpath(\"//h3[@class='price']/span[@class='actual-price']/text()\")[0]))\n",
    "        except:\n",
    "            prices.append(None)\n",
    "    df = pd.DataFrame({'tp_imovel':tp_imovel,'price':prices,'cond':condominio,\n",
    "                       'iptu':iptu,'area':area,'quartos':quartos,'banheiros':banheiros,\n",
    "                       'garagem':garagem,'cep':cep,'City':city,'Bairro':bairro,'url':links})        \n",
    "    return df"
   ]
  },
  {
   "cell_type": "code",
   "execution_count": null,
   "metadata": {},
   "outputs": [
    {
     "name": "stdout",
     "output_type": "stream",
     "text": [
      "Página => 0\n"
     ]
    }
   ],
   "source": [
    "df_t = pd.DataFrame()\n",
    "next_page = 'https://sp.olx.com.br/grande-campinas/regiao-de-campinas/campinas/imoveis/aluguel/2-quartos?gsp=1'\n",
    "for i in range(150):\n",
    "    print('Página =>',i)\n",
    "    try:\n",
    "        n_links, next_page = get_links_page(next_page)\n",
    "        df = get_atributes(n_links)\n",
    "        df_t = pd.concat([df_t,df])\n",
    "    except:\n",
    "        print('Erro na busca de novas páginas.')\n",
    "        break\n",
    "df_t.to_excel('Anúncios_28_01_2019.xlsx')"
   ]
  },
  {
   "cell_type": "code",
   "execution_count": null,
   "metadata": {},
   "outputs": [],
   "source": []
  }
 ],
 "metadata": {
  "kernelspec": {
   "display_name": "Python 3",
   "language": "python",
   "name": "python3"
  },
  "language_info": {
   "codemirror_mode": {
    "name": "ipython",
    "version": 3
   },
   "file_extension": ".py",
   "mimetype": "text/x-python",
   "name": "python",
   "nbconvert_exporter": "python",
   "pygments_lexer": "ipython3",
   "version": "3.6.7"
  }
 },
 "nbformat": 4,
 "nbformat_minor": 2
}
